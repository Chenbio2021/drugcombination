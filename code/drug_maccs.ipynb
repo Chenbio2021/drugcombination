{
 "cells": [
  {
   "cell_type": "code",
   "execution_count": 2,
   "metadata": {},
   "outputs": [],
   "source": [
    "from rdkit import Chem\n",
    "from rdkit.Chem import MACCSkeys\n",
    "from rdkit import DataStructs\n",
    "import numpy as np\n",
    "import pandas as pd"
   ]
  },
  {
   "cell_type": "code",
   "execution_count": 15,
   "metadata": {},
   "outputs": [],
   "source": [
    "# 读取包含 name 和 SMILES 列的 CSV 文件\n",
    "df = pd.read_csv('drug_smiles.csv')\n",
    "\n",
    "# 创建一个空的 MACCS 指纹集合\n",
    "maccs_df = pd.DataFrame()"
   ]
  },
  {
   "cell_type": "code",
   "execution_count": 16,
   "metadata": {},
   "outputs": [],
   "source": [
    "# 计算每个分子的 MACCS 指纹\n",
    "for index, row in df.iterrows():\n",
    "    mol = Chem.MolFromSmiles(row['SMILES'])\n",
    "    if mol is not None:\n",
    "        maccs_key = MACCSkeys.GenMACCSKeys(mol)\n",
    "        maccs_series = pd.Series(list(maccs_key.ToBitString()), name=row['Name'])\n",
    "        maccs_df = maccs_df.append(maccs_series)\n"
   ]
  },
  {
   "cell_type": "code",
   "execution_count": 17,
   "metadata": {},
   "outputs": [
    {
     "name": "stdout",
     "output_type": "stream",
     "text": [
      "                     0   1   2   3   4   5   6   7   8   9    ... 157 158 159  \\\n",
      "Altretamine            0   0   0   0   0   0   0   0   0   0  ...   0   1   0   \n",
      "Amifostine             0   0   0   0   0   0   0   0   0   0  ...   0   1   1   \n",
      "Anastrozole            0   0   0   0   0   0   0   0   0   0  ...   0   1   0   \n",
      "Busulfan               0   0   0   0   0   0   0   0   0   0  ...   1   0   1   \n",
      "Carmustine             0   0   0   0   0   0   0   0   0   0  ...   0   1   1   \n",
      "...                   ..  ..  ..  ..  ..  ..  ..  ..  ..  ..  ...  ..  ..  ..   \n",
      "Vinorelbine tartrate   0   0   0   0   0   0   0   0   0   0  ...   1   1   1   \n",
      "Vemurafenib            0   0   0   0   0   0   0   0   0   0  ...   0   1   1   \n",
      "Dacarbazine            0   0   0   0   0   0   0   0   0   0  ...   0   1   0   \n",
      "Allopurinol            0   0   0   0   0   0   0   0   0   0  ...   0   0   0   \n",
      "Pemetrexed Disodium    0   0   0   0   0   0   0   0   0   0  ...   1   1   1   \n",
      "\n",
      "                     160 161 162 163 164 165 166  \n",
      "Altretamine            1   1   1   1   0   1   0  \n",
      "Amifostine             0   1   0   0   1   0   0  \n",
      "Anastrozole            1   1   1   1   0   1   0  \n",
      "Busulfan               1   0   0   0   1   0   0  \n",
      "Carmustine             0   1   0   0   1   0   0  \n",
      "...                   ..  ..  ..  ..  ..  ..  ..  \n",
      "Vinorelbine tartrate   1   1   1   1   1   1   1  \n",
      "Vemurafenib            1   1   1   1   1   1   0  \n",
      "Dacarbazine            1   1   1   0   1   1   0  \n",
      "Allopurinol            0   1   1   1   1   1   0  \n",
      "Pemetrexed Disodium    0   1   1   1   1   1   0  \n",
      "\n",
      "[104 rows x 167 columns]\n"
     ]
    }
   ],
   "source": [
    "print(maccs_df)"
   ]
  },
  {
   "cell_type": "code",
   "execution_count": 18,
   "metadata": {},
   "outputs": [],
   "source": [
    "\n",
    "# 将 DataFrame 保存为 CSV 文件\n",
    "maccs_df.to_csv('drug_maccs.csv')"
   ]
  }
 ],
 "metadata": {
  "kernelspec": {
   "display_name": "base",
   "language": "python",
   "name": "python3"
  },
  "language_info": {
   "codemirror_mode": {
    "name": "ipython",
    "version": 3
   },
   "file_extension": ".py",
   "mimetype": "text/x-python",
   "name": "python",
   "nbconvert_exporter": "python",
   "pygments_lexer": "ipython3",
   "version": "3.7.3"
  }
 },
 "nbformat": 4,
 "nbformat_minor": 2
}
